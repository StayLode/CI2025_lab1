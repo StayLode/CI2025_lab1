{
 "cells": [
  {
   "cell_type": "markdown",
   "id": "e7d9faf8",
   "metadata": {},
   "source": [
    "### ⎯⎯⎯⎯⎯⎯⎯⎯⎯⎯⎯⎯⎯⎯⎯⎯⎯⎯⎯⎯⎯⎯⎯⎯⎯⎯⎯⎯⎯⎯⎯\n",
    "# Laboratory 1 Solution\n",
    "### Cooperating with: Riccardo Vaccari (s348856)\n",
    "### ⎯⎯⎯⎯⎯⎯⎯⎯⎯⎯⎯⎯⎯⎯⎯⎯⎯⎯⎯⎯⎯⎯⎯⎯⎯⎯⎯⎯⎯⎯⎯"
   ]
  },
  {
   "cell_type": "markdown",
   "id": "7e0b73b6",
   "metadata": {},
   "source": [
    "## Import"
   ]
  },
  {
   "cell_type": "code",
   "execution_count": 16,
   "id": "05ba2046",
   "metadata": {},
   "outputs": [],
   "source": [
    "import numpy as np\n",
    "from tqdm.auto import tqdm"
   ]
  },
  {
   "cell_type": "markdown",
   "id": "abca46cf",
   "metadata": {},
   "source": [
    "## Setup"
   ]
  },
  {
   "cell_type": "code",
   "execution_count": 17,
   "id": "f71596ee",
   "metadata": {},
   "outputs": [],
   "source": [
    "NUM_SAMPLES = 10  # number of candidates solution\n",
    "MAX_STEPS = 10000"
   ]
  },
  {
   "cell_type": "code",
   "execution_count": 26,
   "id": "e00ecefd",
   "metadata": {},
   "outputs": [],
   "source": [
    "# Problem 1 setup\n",
    "rng = np.random.default_rng(seed=42)\n",
    "NUM_KNAPSACKS = 3\n",
    "NUM_ITEMS = 20\n",
    "NUM_DIMENSIONS = 2\n",
    "VALUES = rng.integers(0, 100, size=NUM_ITEMS)\n",
    "WEIGHTS = rng.integers(0, 100, size=(NUM_ITEMS, NUM_DIMENSIONS))\n",
    "CONSTRAINTS = rng.integers(0, 100 * NUM_ITEMS // NUM_KNAPSACKS, size=(NUM_KNAPSACKS,NUM_DIMENSIONS))\n"
   ]
  },
  {
   "cell_type": "code",
   "execution_count": 30,
   "id": "e92db4db",
   "metadata": {},
   "outputs": [],
   "source": [
    "# Problem 2 setup\n",
    "rng = np.random.default_rng(seed=42)\n",
    "NUM_KNAPSACKS = 10\n",
    "NUM_ITEMS = 100\n",
    "NUM_DIMENSIONS = 10\n",
    "VALUES = rng.integers(0, 1000, size=NUM_ITEMS)\n",
    "WEIGHTS = rng.integers(0, 1000, size=(NUM_ITEMS, NUM_DIMENSIONS))\n",
    "CONSTRAINTS = rng.integers(1000 * 2, 1000 * NUM_ITEMS // NUM_KNAPSACKS,  size=(NUM_KNAPSACKS,NUM_DIMENSIONS))"
   ]
  },
  {
   "cell_type": "code",
   "execution_count": 20,
   "id": "52b71034",
   "metadata": {},
   "outputs": [],
   "source": [
    "# Problem 3 setup\n",
    "rng = np.random.default_rng(seed=42)\n",
    "NUM_KNAPSACKS = 100\n",
    "NUM_ITEMS = 5000\n",
    "NUM_DIMENSIONS = 100\n",
    "VALUES = rng.integers(0, 1000, size=NUM_ITEMS)\n",
    "WEIGHTS = rng.integers(0, 1000, size=(NUM_ITEMS, NUM_DIMENSIONS))\n",
    "CONSTRAINTS = rng.integers(1000 * 10, 1000 * 2 * NUM_ITEMS // NUM_KNAPSACKS,  size=(NUM_KNAPSACKS,NUM_DIMENSIONS))"
   ]
  },
  {
   "cell_type": "code",
   "execution_count": 21,
   "id": "e8b7ecfe",
   "metadata": {},
   "outputs": [],
   "source": [
    "# fitness function\n",
    "def value(sol):\n",
    "    return VALUES[np.any(sol, axis=0)].sum()\n",
    "\n",
    "# validity check\n",
    "def is_valid(sol):\n",
    "    # each item in at most one knapsack\n",
    "    if np.any(sol.sum(axis=0) > 1):\n",
    "        return False\n",
    "    # each knapsack respects its constraints\n",
    "    return np.all([WEIGHTS[sol[k]].sum(axis=0) <= CONSTRAINTS[k] for k in range(NUM_KNAPSACKS)])\n",
    "\n",
    "# tweak: flip one random item in one random knapsack\n",
    "def tweak(sol):\n",
    "    new_solution = sol.copy()\n",
    "    k = rng.integers(0, NUM_KNAPSACKS)\n",
    "    i = rng.integers(0, NUM_ITEMS)\n",
    "    new_solution[k, i] = not new_solution[k, i]\n",
    "    return new_solution"
   ]
  },
  {
   "cell_type": "markdown",
   "id": "f63182d5",
   "metadata": {},
   "source": [
    "## Base Hill Climbing"
   ]
  },
  {
   "cell_type": "code",
   "execution_count": 22,
   "id": "179d65c3",
   "metadata": {},
   "outputs": [],
   "source": [
    "def baseHillClimbing(solution):\n",
    "    for _ in tqdm(range(MAX_STEPS)):\n",
    "        new_solution = tweak(solution)\n",
    "\n",
    "        if not is_valid(new_solution):\n",
    "            continue\n",
    "        \n",
    "        # accept if equal or better to avoid remaining stuck\n",
    "        if value(new_solution) >= value(solution):\n",
    "            solution = new_solution\n",
    "    \n",
    "    return solution"
   ]
  },
  {
   "cell_type": "markdown",
   "id": "0fb03bda",
   "metadata": {},
   "source": [
    "## Hill Climbing (with Tabu Search)"
   ]
  },
  {
   "cell_type": "code",
   "execution_count": 23,
   "id": "d01a5c3f",
   "metadata": {},
   "outputs": [],
   "source": [
    "def tabuSearchHillClimbing(solution):\n",
    "    tabu_list = set()\n",
    "\n",
    "    for _ in tqdm(range(MAX_STEPS)):\n",
    "        possible_solutions = [tweak(solution) for _ in range(NUM_SAMPLES)]\n",
    "        candidates = [\n",
    "            sol for sol in possible_solutions \n",
    "            if is_valid(sol) and sol.flatten().tobytes() not in tabu_list\n",
    "        ]\n",
    "\n",
    "        if not candidates:\n",
    "            continue\n",
    "\n",
    "        new_solution = max(candidates, key=value)\n",
    "\n",
    "        # accept if equal or better to avoid remaining stuck\n",
    "        if value(new_solution) >= value(solution):\n",
    "            tabu_list.add(solution.flatten().tobytes())\n",
    "            solution = new_solution\n",
    "    return solution    \n"
   ]
  },
  {
   "cell_type": "markdown",
   "id": "c2b7dc61",
   "metadata": {},
   "source": [
    "## Results"
   ]
  },
  {
   "cell_type": "code",
   "execution_count": 34,
   "id": "26bba0c5",
   "metadata": {},
   "outputs": [
    {
     "name": "stderr",
     "output_type": "stream",
     "text": [
      "100%|██████████| 10000/10000 [00:01<00:00, 7929.75it/s]"
     ]
    },
    {
     "name": "stdout",
     "output_type": "stream",
     "text": [
      "Total value: 40282\n",
      "Knapsack 1 value: 3374\n",
      "Knapsack 2 value: 4198\n",
      "Knapsack 3 value: 3493\n",
      "Knapsack 4 value: 5188\n",
      "Knapsack 5 value: 6392\n",
      "Knapsack 6 value: 3526\n",
      "Knapsack 7 value: 4968\n",
      "Knapsack 8 value: 2835\n",
      "Knapsack 9 value: 2412\n",
      "Knapsack 10 value: 3896\n",
      "Knapsack 1 weights: [3032 2624 1650 2897 2328 3292 3640 1312 3099 2114], constraints: [5837 5754 9351 3205 4450 3447 3952 9256 9525 2357]\n",
      "Knapsack 2 weights: [2882 3322 3497 4240 3148 2572 4163 4022 3879 2858], constraints: [7056 3862 3540 4336 3555 5921 9964 6691 7785 5946]\n",
      "Knapsack 3 weights: [2043 2336 3644 3216 2527 2224 3207 2464 2027 1449], constraints: [2111 2672 4150 3949 8724 8748 8832 7100 6449 7193]\n",
      "Knapsack 4 weights: [3045 5714 3503 3001 4544 2413 4411 4396 4445 2918], constraints: [5254 7361 8355 8103 6910 2464 7799 4932 7949 6316]\n",
      "Knapsack 5 weights: [4500 4602 6413 4600 4328 4351 3002 5041 5610 4500], constraints: [9049 4707 9451 8755 4648 5860 6250 8149 7513 8816]\n",
      "Knapsack 6 weights: [3871 2952 3588 3001 3416 4364 2948 2415 3614 3793], constraints: [4958 6038 5446 9276 4439 6696 2961 8802 5073 4724]\n",
      "Knapsack 7 weights: [3693 3546 3196 3445 3359 2796 1942 2173 3234 3669], constraints: [6663 5990 8783 6251 6135 2839 2175 5188 9985 9338]\n",
      "Knapsack 8 weights: [2481 2831 2126 2192 1855 3577 1845 3054 3030 2107], constraints: [7031 7046 5132 3420 2068 4710 4531 3532 4073 2198]\n",
      "Knapsack 9 weights: [1167 1515 1317 1634 1771 1068 3114  804 1674 1970], constraints: [6863 9419 7526 5585 5362 4460 3139 6787 6532 2058]\n",
      "Knapsack 10 weights: [4818 3707 3152 3971 5796 4671 3225 3680 3590 3403], constraints: [5324 4224 3362 7624 6206 7070 7707 9854 8422 6962]\n"
     ]
    },
    {
     "name": "stderr",
     "output_type": "stream",
     "text": [
      "\n"
     ]
    }
   ],
   "source": [
    "# start with empty solution (no items assigned)\n",
    "first_guess = np.zeros((NUM_KNAPSACKS, NUM_ITEMS), dtype=bool)\n",
    "\n",
    "# Results \n",
    "solution = tabuSearchHillClimbing(first_guess)\n",
    "total_value = value(solution)\n",
    "values_per_knapsack = [VALUES[solution[k]].sum() for k in range(NUM_KNAPSACKS)]\n",
    "\n",
    "print(\"Total value:\", total_value)\n",
    "for k, v in enumerate(values_per_knapsack):\n",
    "    print(f\"Knapsack {k+1} value: {v}\")\n",
    "\n",
    "for k in range(NUM_KNAPSACKS):\n",
    "    total_weights = WEIGHTS[solution[k]].sum(axis=0)\n",
    "    print(f\"Knapsack {k+1} weights: {total_weights}, constraints: {CONSTRAINTS[k]}\")"
   ]
  }
 ],
 "metadata": {
  "kernelspec": {
   "display_name": "Python 3",
   "language": "python",
   "name": "python3"
  },
  "language_info": {
   "codemirror_mode": {
    "name": "ipython",
    "version": 3
   },
   "file_extension": ".py",
   "mimetype": "text/x-python",
   "name": "python",
   "nbconvert_exporter": "python",
   "pygments_lexer": "ipython3",
   "version": "3.11.9"
  }
 },
 "nbformat": 4,
 "nbformat_minor": 5
}
