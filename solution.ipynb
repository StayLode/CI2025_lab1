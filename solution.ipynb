{
 "cells": [
  {
   "cell_type": "markdown",
   "id": "e7d9faf8",
   "metadata": {},
   "source": [
    "### ⎯⎯⎯⎯⎯⎯⎯⎯⎯⎯⎯⎯⎯⎯⎯⎯⎯⎯⎯⎯⎯⎯⎯⎯⎯⎯⎯⎯⎯⎯⎯\n",
    "# Laboratory 1 Solution\n",
    "### Cooperating with: Riccardo Vaccari (s348856)\n",
    "### ⎯⎯⎯⎯⎯⎯⎯⎯⎯⎯⎯⎯⎯⎯⎯⎯⎯⎯⎯⎯⎯⎯⎯⎯⎯⎯⎯⎯⎯⎯⎯"
   ]
  },
  {
   "cell_type": "markdown",
   "id": "7e0b73b6",
   "metadata": {},
   "source": [
    "## Import"
   ]
  },
  {
   "cell_type": "code",
   "execution_count": 1,
   "id": "05ba2046",
   "metadata": {},
   "outputs": [
    {
     "name": "stderr",
     "output_type": "stream",
     "text": [
      "/Library/Frameworks/Python.framework/Versions/3.11/lib/python3.11/site-packages/tqdm/auto.py:21: TqdmWarning: IProgress not found. Please update jupyter and ipywidgets. See https://ipywidgets.readthedocs.io/en/stable/user_install.html\n",
      "  from .autonotebook import tqdm as notebook_tqdm\n"
     ]
    }
   ],
   "source": [
    "import numpy as np\n",
    "from tqdm.auto import tqdm"
   ]
  },
  {
   "cell_type": "markdown",
   "id": "abca46cf",
   "metadata": {},
   "source": [
    "## Setup"
   ]
  },
  {
   "cell_type": "code",
   "execution_count": 12,
   "id": "f71596ee",
   "metadata": {},
   "outputs": [],
   "source": [
    "NUM_SAMPLES = 10  # number of candidates solution\n",
    "MAX_STEPS = 10000"
   ]
  },
  {
   "cell_type": "code",
   "execution_count": 9,
   "id": "e00ecefd",
   "metadata": {},
   "outputs": [],
   "source": [
    "# Problem 1 setup\n",
    "rng = np.random.default_rng(seed=42)\n",
    "NUM_KNAPSACKS = 3\n",
    "NUM_ITEMS = 20\n",
    "NUM_DIMENSIONS = 2\n",
    "VALUES = rng.integers(0, 100, size=NUM_ITEMS)\n",
    "WEIGHTS = rng.integers(0, 100, size=(NUM_ITEMS, NUM_DIMENSIONS))\n",
    "CONSTRAINTS = rng.integers(0, 100 * NUM_ITEMS // NUM_KNAPSACKS, size=(NUM_KNAPSACKS,NUM_DIMENSIONS))\n"
   ]
  },
  {
   "cell_type": "code",
   "execution_count": 15,
   "id": "e92db4db",
   "metadata": {},
   "outputs": [],
   "source": [
    "# Problem 2 setup\n",
    "rng = np.random.default_rng(seed=42)\n",
    "NUM_KNAPSACKS = 10\n",
    "NUM_ITEMS = 100\n",
    "NUM_DIMENSIONS = 10\n",
    "VALUES = rng.integers(0, 1000, size=NUM_ITEMS)\n",
    "WEIGHTS = rng.integers(0, 1000, size=(NUM_ITEMS, NUM_DIMENSIONS))\n",
    "CONSTRAINTS = rng.integers(1000 * 2, 1000 * NUM_ITEMS // NUM_KNAPSACKS,  size=(NUM_KNAPSACKS,NUM_DIMENSIONS))"
   ]
  },
  {
   "cell_type": "code",
   "execution_count": 35,
   "id": "52b71034",
   "metadata": {},
   "outputs": [],
   "source": [
    "# Problem 3 setup\n",
    "rng = np.random.default_rng(seed=42)\n",
    "NUM_KNAPSACKS = 100\n",
    "NUM_ITEMS = 5000\n",
    "NUM_DIMENSIONS = 100\n",
    "VALUES = rng.integers(0, 1000, size=NUM_ITEMS)\n",
    "WEIGHTS = rng.integers(0, 1000, size=(NUM_ITEMS, NUM_DIMENSIONS))\n",
    "CONSTRAINTS = rng.integers(1000 * 10, 1000 * 2 * NUM_ITEMS // NUM_KNAPSACKS,  size=(NUM_KNAPSACKS,NUM_DIMENSIONS))"
   ]
  },
  {
   "cell_type": "markdown",
   "id": "f63182d5",
   "metadata": {},
   "source": [
    "## Base Hill Climbing"
   ]
  },
  {
   "cell_type": "code",
   "execution_count": 16,
   "id": "179d65c3",
   "metadata": {},
   "outputs": [
    {
     "name": "stderr",
     "output_type": "stream",
     "text": [
      "100%|██████████| 10000/10000 [00:00<00:00, 67039.79it/s]"
     ]
    },
    {
     "name": "stdout",
     "output_type": "stream",
     "text": [
      "Total value: 34523\n",
      "Zaino 1 value: 3845\n",
      "Zaino 2 value: 2882\n",
      "Zaino 3 value: 3118\n",
      "Zaino 4 value: 4271\n",
      "Zaino 5 value: 4647\n",
      "Zaino 6 value: 4532\n",
      "Zaino 7 value: 2141\n",
      "Zaino 8 value: 1458\n",
      "Zaino 9 value: 3101\n",
      "Zaino 10 value: 4528\n",
      "Zaino 1 weights: [2305 4086 3681 2635 3690 2909 3130 1839 2140 2222], constraints: [5837 5754 9351 3205 4450 3447 3952 9256 9525 2357]\n",
      "Zaino 2 weights: [2192 3687 3459 2212 2891 1753 2772 3000 3020 1803], constraints: [7056 3862 3540 4336 3555 5921 9964 6691 7785 5946]\n",
      "Zaino 3 weights: [2075 1829 2851 3317 3711 2685 2048 2266 2829 1189], constraints: [2111 2672 4150 3949 8724 8748 8832 7100 6449 7193]\n",
      "Zaino 4 weights: [3011 3741 2303 3626 3470 2417 3702 3355 3056 3712], constraints: [5254 7361 8355 8103 6910 2464 7799 4932 7949 6316]\n",
      "Zaino 5 weights: [5579 4471 4875 3896 4635 4920 5766 3253 6756 4067], constraints: [9049 4707 9451 8755 4648 5860 6250 8149 7513 8816]\n",
      "Zaino 6 weights: [2958 3150 2351 3405 4271 4095 2932 4876 3716 3609], constraints: [4958 6038 5446 9276 4439 6696 2961 8802 5073 4724]\n",
      "Zaino 7 weights: [3027 3247 2120 2913 2698 2786 2074 2309 1726 1498], constraints: [6663 5990 8783 6251 6135 2839 2175 5188 9985 9338]\n",
      "Zaino 8 weights: [2160 3016 3640 2612 1844 2858 2513 1330 1340 1975], constraints: [7031 7046 5132 3420 2068 4710 4531 3532 4073 2198]\n",
      "Zaino 9 weights: [3979 1927 2383 1530 3550 2442 2766 3556 3316 2001], constraints: [6863 9419 7526 5585 5362 4460 3139 6787 6532 2058]\n",
      "Zaino 10 weights: [5080 4164 2350 5333 5222 6171 4449 3674 3135 5159], constraints: [5324 4224 3362 7624 6206 7070 7707 9854 8422 6962]\n"
     ]
    },
    {
     "name": "stderr",
     "output_type": "stream",
     "text": [
      "\n"
     ]
    }
   ],
   "source": [
    "# start with empty solution (no items assigned)\n",
    "solution = np.zeros((NUM_KNAPSACKS, NUM_ITEMS), dtype=bool)\n",
    "\n",
    "# fitness function\n",
    "def value(sol):\n",
    "    return VALUES[np.any(sol, axis=0)].sum()\n",
    "\n",
    "# validity check\n",
    "def is_valid(sol):\n",
    "    # each item in at most one knapsack\n",
    "    if np.any(sol.sum(axis=0) > 1):\n",
    "        return False\n",
    "\n",
    "    # each knapsack respects its constraints\n",
    "    return np.all([WEIGHTS[sol[k]].sum(axis=0) <= CONSTRAINTS[k] for k in range(NUM_KNAPSACKS)])\n",
    "\n",
    "# tweak: flip one random item in one random knapsack\n",
    "def tweak(sol):\n",
    "    new_solution = solution.copy()\n",
    "    k = rng.integers(0, NUM_KNAPSACKS)\n",
    "    i = rng.integers(0, NUM_ITEMS)\n",
    "    new_solution[k, i] = not new_solution[k, i]\n",
    "    return new_solution\n",
    "\n",
    "# --- Hill climbing loop ---\n",
    "for _ in tqdm(range(MAX_STEPS)):\n",
    "    new_solution = tweak(solution)\n",
    "\n",
    "    if not is_valid(new_solution):\n",
    "        continue\n",
    "    \n",
    "    # accept if equal or better to avoid remaining stuck\n",
    "    if value(new_solution) >= value(solution):\n",
    "        solution = new_solution\n",
    "\n",
    "# Results \n",
    "total_value = value(solution)\n",
    "values_per_knapsack = [VALUES[solution[k]].sum() for k in range(NUM_KNAPSACKS)]\n",
    "\n",
    "print(\"Total value:\", total_value)\n",
    "for k, v in enumerate(values_per_knapsack):\n",
    "    print(f\"Zaino {k+1} value: {v}\")\n",
    "\n",
    "for k in range(NUM_KNAPSACKS):\n",
    "    total_weights = WEIGHTS[solution[k]].sum(axis=0)\n",
    "    print(f\"Zaino {k+1} weights: {total_weights}, constraints: {CONSTRAINTS[k]}\")"
   ]
  },
  {
   "cell_type": "markdown",
   "id": "0fb03bda",
   "metadata": {},
   "source": [
    "## Hill Climbing (with Tabu Search)"
   ]
  },
  {
   "cell_type": "code",
   "execution_count": 17,
   "id": "d01a5c3f",
   "metadata": {},
   "outputs": [
    {
     "name": "stderr",
     "output_type": "stream",
     "text": [
      "100%|██████████| 10000/10000 [00:01<00:00, 8314.40it/s]"
     ]
    },
    {
     "name": "stdout",
     "output_type": "stream",
     "text": [
      "Total value: 42024\n",
      "Knapsack 1 value: 4544\n",
      "Knapsack 2 value: 4062\n",
      "Knapsack 3 value: 4422\n",
      "Knapsack 4 value: 3483\n",
      "Knapsack 5 value: 5588\n",
      "Knapsack 6 value: 5484\n",
      "Knapsack 7 value: 4400\n",
      "Knapsack 8 value: 2491\n",
      "Knapsack 9 value: 2918\n",
      "Knapsack 10 value: 4632\n",
      "Knapsack 1 weights: [2731 5271 4728 3150 2965 2719 2936 2799 3097 2068], constraints: [5837 5754 9351 3205 4450 3447 3952 9256 9525 2357]\n",
      "Knapsack 2 weights: [2940 3670 2454 3445 3169 3561 3404 2766 3394 3231], constraints: [7056 3862 3540 4336 3555 5921 9964 6691 7785 5946]\n",
      "Knapsack 3 weights: [1946 2629 3985 3768 3593 2783 4167 2648 3549 3301], constraints: [2111 2672 4150 3949 8724 8748 8832 7100 6449 7193]\n",
      "Knapsack 4 weights: [1723 2075 3411 2868 2520 2446 2794 2004 1250 3176], constraints: [5254 7361 8355 8103 6910 2464 7799 4932 7949 6316]\n",
      "Knapsack 5 weights: [5376 4598 5554 4776 4634 5827 5263 4323 5061 5106], constraints: [9049 4707 9451 8755 4648 5860 6250 8149 7513 8816]\n",
      "Knapsack 6 weights: [4882 3187 4607 4720 4128 5701 2932 3264 3453 3258], constraints: [4958 6038 5446 9276 4439 6696 2961 8802 5073 4724]\n",
      "Knapsack 7 weights: [2783 3178 3898 3519 3028 2581 2103 1789 2721 3574], constraints: [6663 5990 8783 6251 6135 2839 2175 5188 9985 9338]\n",
      "Knapsack 8 weights: [1752 1088 2255 1332 1891 1604 1608 1611 1751 2160], constraints: [7031 7046 5132 3420 2068 4710 4531 3532 4073 2198]\n",
      "Knapsack 9 weights: [3590 3324 1457 4125 2586 2533 2971 1717 4076 2052], constraints: [6863 9419 7526 5585 5362 4460 3139 6787 6532 2058]\n",
      "Knapsack 10 weights: [5310 3150 2560 4711 5647 4219 4880 4367 3512 3149], constraints: [5324 4224 3362 7624 6206 7070 7707 9854 8422 6962]\n"
     ]
    },
    {
     "name": "stderr",
     "output_type": "stream",
     "text": [
      "\n"
     ]
    }
   ],
   "source": [
    "# start with empty solution (no items assigned)\n",
    "solution = np.zeros((NUM_KNAPSACKS, NUM_ITEMS), dtype=bool)\n",
    "\n",
    "# fitness function\n",
    "def value(sol):\n",
    "    return VALUES[np.any(sol, axis=0)].sum()\n",
    "\n",
    "# validity check\n",
    "def is_valid(sol):\n",
    "    # each item in at most one knapsack\n",
    "    if np.any(sol.sum(axis=0) > 1):\n",
    "        return False\n",
    "    # each knapsack respects its constraints\n",
    "    return np.all([WEIGHTS[sol[k]].sum(axis=0) <= CONSTRAINTS[k] for k in range(NUM_KNAPSACKS)])\n",
    "\n",
    "# tweak: flip one random item in one random knapsack\n",
    "def tweak(sol):\n",
    "    new_solution = sol.copy()\n",
    "    k = rng.integers(0, NUM_KNAPSACKS)\n",
    "    i = rng.integers(0, NUM_ITEMS)\n",
    "    new_solution[k, i] = not new_solution[k, i]\n",
    "    return new_solution\n",
    "\n",
    "# --- Hill Climbing loop ---\n",
    "\n",
    "tabu_list = set()\n",
    "\n",
    "for _ in tqdm(range(MAX_STEPS)):\n",
    "    possible_solutions = [tweak(solution) for _ in range(NUM_SAMPLES)]\n",
    "    candidates = [\n",
    "        sol for sol in possible_solutions \n",
    "        if is_valid(sol) and sol.flatten().tobytes() not in tabu_list\n",
    "    ]\n",
    "\n",
    "    if not candidates:\n",
    "        continue\n",
    "\n",
    "    new_solution = max(candidates, key=value)\n",
    "\n",
    "    # accept if equal or better to avoid remaining stuck\n",
    "    if value(new_solution) >= value(solution):\n",
    "        tabu_list.add(solution.flatten().tobytes())\n",
    "        solution = new_solution\n",
    "\n",
    "# Results \n",
    "total_value = value(solution)\n",
    "values_per_knapsack = [VALUES[solution[k]].sum() for k in range(NUM_KNAPSACKS)]\n",
    "\n",
    "print(\"Total value:\", total_value)\n",
    "for k, v in enumerate(values_per_knapsack):\n",
    "    print(f\"Knapsack {k+1} value: {v}\")\n",
    "\n",
    "for k in range(NUM_KNAPSACKS):\n",
    "    total_weights = WEIGHTS[solution[k]].sum(axis=0)\n",
    "    print(f\"Knapsack {k+1} weights: {total_weights}, constraints: {CONSTRAINTS[k]}\")"
   ]
  },
  {
   "cell_type": "code",
   "execution_count": null,
   "id": "81969919",
   "metadata": {},
   "outputs": [],
   "source": []
  }
 ],
 "metadata": {
  "kernelspec": {
   "display_name": "Python 3",
   "language": "python",
   "name": "python3"
  },
  "language_info": {
   "codemirror_mode": {
    "name": "ipython",
    "version": 3
   },
   "file_extension": ".py",
   "mimetype": "text/x-python",
   "name": "python",
   "nbconvert_exporter": "python",
   "pygments_lexer": "ipython3",
   "version": "3.11.9"
  }
 },
 "nbformat": 4,
 "nbformat_minor": 5
}
